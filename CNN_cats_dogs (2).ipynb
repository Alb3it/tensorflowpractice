{
 "cells": [
  {
   "cell_type": "markdown",
   "metadata": {},
   "source": [
    "# 복잡한 object 구별하기 (강이지 vs 고양이) : from Deep learning with Python "
   ]
  },
  {
   "cell_type": "markdown",
   "metadata": {},
   "source": [
    "## 아래 코드는 \"케라스 창시자에게 배우는 딥러닝\"의  역자 Github (https://github.com/rickiepark/deep-learning-with-python-notebooks) 에서 받은 소스파일을 교육목적으로 재구성함"
   ]
  },
  {
   "cell_type": "code",
   "execution_count": null,
   "metadata": {},
   "outputs": [],
   "source": [
    "import os\n",
    "os.environ['KMP_DUPLICATE_LIB_OK']='True' # The kernel appears to have died. It will restart automatically 문제 수정"
   ]
  },
  {
   "cell_type": "markdown",
   "metadata": {},
   "source": [
    "## 데이터 처리를 위해 scipy 를 설치"
   ]
  },
  {
   "cell_type": "code",
   "execution_count": 9,
   "metadata": {},
   "outputs": [
    {
     "name": "stdout",
     "output_type": "stream",
     "text": [
      "Requirement already satisfied: scipy in c:\\programdata\\anaconda3\\envs\\class\\lib\\site-packages (1.7.3)\n",
      "Requirement already satisfied: numpy<1.23.0,>=1.16.5 in c:\\programdata\\anaconda3\\envs\\class\\lib\\site-packages (from scipy) (1.21.5)\n"
     ]
    }
   ],
   "source": [
    "!pip install scipy\n",
    "\n",
    "import keras\n",
    "keras.__version__\n",
    "\n",
    "import os, shutil # 파일 연산을 위한 라이브러리 "
   ]
  },
  {
   "cell_type": "markdown",
   "metadata": {},
   "source": [
    "## 파이썬 기능을 사용하여, 파일 분류 \n",
    "이 주피터 노트북이 있는 폴더에 데이터 zip 을 압축 해제 하기 바랍니다."
   ]
  },
  {
   "cell_type": "code",
   "execution_count": 12,
   "metadata": {},
   "outputs": [],
   "source": [
    "# 원본 데이터셋을 압축 해제한 디렉터리 경로 \n",
    "original_dataset_dir = 'C:/Users/Owner/Desktop/희철/datasets/cats_and_dogs/train'\n",
    "\n",
    "# 소규모 데이터셋을 저장할 디렉터리\n",
    "base_dir = 'C:/Users/Owner/Desktop/희철/datasets/cats_and_dogs_small'\n",
    "if os.path.exists(base_dir):  # 반복적인 실행을 위해 디렉토리를 삭제합니다.\n",
    "    shutil.rmtree(base_dir)   \n",
    "os.mkdir(base_dir)\n",
    "\n",
    "# 훈련, 검증, 테스트 분할을 위한 디렉터리\n",
    "train_dir = os.path.join(base_dir, 'train')\n",
    "os.mkdir(train_dir)\n",
    "validation_dir = os.path.join(base_dir, 'validation')\n",
    "os.mkdir(validation_dir)\n",
    "test_dir = os.path.join(base_dir, 'test')\n",
    "os.mkdir(test_dir)\n",
    "\n",
    "# 훈련용 고양이 사진 디렉터리\n",
    "train_cats_dir = os.path.join(train_dir, 'cats')\n",
    "os.mkdir(train_cats_dir)\n",
    "\n",
    "# 훈련용 강아지 사진 디렉터리\n",
    "train_dogs_dir = os.path.join(train_dir, 'dogs')\n",
    "os.mkdir(train_dogs_dir)\n",
    "\n",
    "# 검증용 고양이 사진 디렉터리\n",
    "validation_cats_dir = os.path.join(validation_dir, 'cats')\n",
    "os.mkdir(validation_cats_dir)\n",
    "\n",
    "# 검증용 강아지 사진 디렉터리\n",
    "validation_dogs_dir = os.path.join(validation_dir, 'dogs')\n",
    "os.mkdir(validation_dogs_dir)\n",
    "\n",
    "# 테스트용 고양이 사진 디렉터리\n",
    "test_cats_dir = os.path.join(test_dir, 'cats')\n",
    "os.mkdir(test_cats_dir)\n",
    "\n",
    "# 테스트용 강아지 사진 디렉터리\n",
    "test_dogs_dir = os.path.join(test_dir, 'dogs')\n",
    "os.mkdir(test_dogs_dir)\n",
    "\n",
    "# 처음 1,000개의 고양이 이미지를 train_cats_dir에 복사합니다\n",
    "fnames = ['cat.{}.jpg'.format(i) for i in range(1000)]\n",
    "for fname in fnames:\n",
    "    src = os.path.join(original_dataset_dir, fname)\n",
    "    dst = os.path.join(train_cats_dir, fname)\n",
    "    shutil.copyfile(src, dst)\n",
    "\n",
    "# 다음 500개 고양이 이미지를 validation_cats_dir에 복사합니다\n",
    "fnames = ['cat.{}.jpg'.format(i) for i in range(1000, 1500)]\n",
    "for fname in fnames:\n",
    "    src = os.path.join(original_dataset_dir, fname)\n",
    "    dst = os.path.join(validation_cats_dir, fname)\n",
    "    shutil.copyfile(src, dst)\n",
    "    \n",
    "# 다음 500개 고양이 이미지를 test_cats_dir에 복사합니다\n",
    "fnames = ['cat.{}.jpg'.format(i) for i in range(1500, 2000)]\n",
    "for fname in fnames:\n",
    "    src = os.path.join(original_dataset_dir, fname)\n",
    "    dst = os.path.join(test_cats_dir, fname)\n",
    "    shutil.copyfile(src, dst)\n",
    "    \n",
    "# 처음 1,000개의 강아지 이미지를 train_dogs_dir에 복사합니다\n",
    "fnames = ['dog.{}.jpg'.format(i) for i in range(1000)]\n",
    "for fname in fnames:\n",
    "    src = os.path.join(original_dataset_dir, fname)\n",
    "    dst = os.path.join(train_dogs_dir, fname)\n",
    "    shutil.copyfile(src, dst)\n",
    "    \n",
    "# 다음 500개 강아지 이미지를 validation_dogs_dir에 복사합니다\n",
    "fnames = ['dog.{}.jpg'.format(i) for i in range(1000, 1500)]\n",
    "for fname in fnames:\n",
    "    src = os.path.join(original_dataset_dir, fname)\n",
    "    dst = os.path.join(validation_dogs_dir, fname)\n",
    "    shutil.copyfile(src, dst)\n",
    "    \n",
    "# 다음 500개 강아지 이미지를 test_dogs_dir에 복사합니다\n",
    "fnames = ['dog.{}.jpg'.format(i) for i in range(1500, 2000)]\n",
    "for fname in fnames:\n",
    "    src = os.path.join(original_dataset_dir, fname)\n",
    "    dst = os.path.join(test_dogs_dir, fname)\n",
    "    shutil.copyfile(src, dst)"
   ]
  },
  {
   "cell_type": "code",
   "execution_count": 13,
   "metadata": {},
   "outputs": [
    {
     "name": "stdout",
     "output_type": "stream",
     "text": [
      "훈련용 고양이 이미지 전체 개수: 1000\n",
      "훈련용 강아지 이미지 전체 개수: 1000\n",
      "검증용 고양이 이미지 전체 개수: 500\n",
      "검증용 강아지 이미지 전체 개수: 500\n",
      "테스트용 고양이 이미지 전체 개수: 500\n",
      "테스트용 강아지 이미지 전체 개수: 500\n"
     ]
    }
   ],
   "source": [
    "print('훈련용 고양이 이미지 전체 개수:', len(os.listdir(train_cats_dir)))\n",
    "print('훈련용 강아지 이미지 전체 개수:', len(os.listdir(train_dogs_dir)))\n",
    "\n",
    "print('검증용 고양이 이미지 전체 개수:', len(os.listdir(validation_cats_dir)))\n",
    "print('검증용 강아지 이미지 전체 개수:', len(os.listdir(validation_dogs_dir)))\n",
    "\n",
    "print('테스트용 고양이 이미지 전체 개수:', len(os.listdir(test_cats_dir)))\n",
    "print('테스트용 강아지 이미지 전체 개수:', len(os.listdir(test_dogs_dir)))"
   ]
  },
  {
   "cell_type": "markdown",
   "metadata": {},
   "source": [
    "## 데이터 전처리 \n",
    "\n",
    "데이터는 네트워크에 주입되기 전에 부동 소수 타입의 텐서로 적절하게 전처리되어 있어야 합니다. 지금은 데이터가 JPEG 파일로 되어 있으므로 네트워크에 주입하려면 대략 다음 과정을 따릅니다.\n",
    "\n",
    "1.\t사진 파일을 읽습니다.\n",
    "2.\tJPEG 콘텐츠를 RGB 픽셀 값으로 디코딩합니다.\n",
    "3.\t그다음 부동 소수 타입의 텐서로 변환합니다.\n",
    "4.\t픽셀 값(0에서 255 사이)의 스케일을 [0, 1] 사이로 조정합니다(신경망은 작은 입력 값을 선호합니다).\n",
    "\n",
    "좀 복잡하게 보일 수 있지만 다행히 케라스는 이런 단계를 자동으로 처리하는 유틸리티를 가지고 있습니다. 케라스는 `keras.preprocessing.image`에 이미지 처리를 위한 헬퍼 도구들을 가지고 있습니다. 특히 `ImageDataGenerator` 클래스는 디스크에 있는 이미지 파일을 전처리된 배치 텐서로 자동으로 바꾸어주는 파이썬 제너레이터를 만들어 줍니다. 이 클래스를 사용해 보겠습니다."
   ]
  },
  {
   "cell_type": "code",
   "execution_count": 14,
   "metadata": {},
   "outputs": [
    {
     "name": "stdout",
     "output_type": "stream",
     "text": [
      "Found 2000 images belonging to 2 classes.\n",
      "Found 1000 images belonging to 2 classes.\n"
     ]
    }
   ],
   "source": [
    "from keras.preprocessing.image import ImageDataGenerator\n",
    "\n",
    "# 모든 이미지를 1/255로 스케일을 조정합니다\n",
    "train_datagen = ImageDataGenerator(rescale=1./255)\n",
    "test_datagen = ImageDataGenerator(rescale=1./255)\n",
    "\n",
    "train_generator = train_datagen.flow_from_directory(\n",
    "        # 타깃 디렉터리\n",
    "        train_dir,\n",
    "        # 모든 이미지를 150 × 150 크기로 바꿉니다\n",
    "        target_size=(150, 150),\n",
    "        batch_size=20,\n",
    "        # binary_crossentropy 손실을 사용하기 때문에 이진 레이블이 필요합니다 (강아지 vs 고양이)\n",
    "        class_mode='binary')\n",
    "\n",
    "validation_generator = test_datagen.flow_from_directory(\n",
    "        validation_dir,\n",
    "        target_size=(150, 150),\n",
    "        batch_size=20,\n",
    "        class_mode='binary')"
   ]
  },
  {
   "cell_type": "code",
   "execution_count": 15,
   "metadata": {},
   "outputs": [
    {
     "name": "stdout",
     "output_type": "stream",
     "text": [
      "배치 데이터 크기: (20, 150, 150, 3)\n",
      "배치 레이블 크기: (20,)\n"
     ]
    }
   ],
   "source": [
    "for data_batch, labels_batch in train_generator:\n",
    "    print('배치 데이터 크기:', data_batch.shape)\n",
    "    print('배치 레이블 크기:', labels_batch.shape)\n",
    "    break"
   ]
  },
  {
   "cell_type": "code",
   "execution_count": 16,
   "metadata": {},
   "outputs": [
    {
     "name": "stdout",
     "output_type": "stream",
     "text": [
      "Model: \"sequential\"\n",
      "_________________________________________________________________\n",
      "Layer (type)                 Output Shape              Param #   \n",
      "=================================================================\n",
      "conv2d (Conv2D)              (None, 148, 148, 32)      896       \n",
      "_________________________________________________________________\n",
      "max_pooling2d (MaxPooling2D) (None, 74, 74, 32)        0         \n",
      "_________________________________________________________________\n",
      "conv2d_1 (Conv2D)            (None, 72, 72, 64)        18496     \n",
      "_________________________________________________________________\n",
      "max_pooling2d_1 (MaxPooling2 (None, 36, 36, 64)        0         \n",
      "_________________________________________________________________\n",
      "conv2d_2 (Conv2D)            (None, 34, 34, 128)       73856     \n",
      "_________________________________________________________________\n",
      "max_pooling2d_2 (MaxPooling2 (None, 17, 17, 128)       0         \n",
      "_________________________________________________________________\n",
      "conv2d_3 (Conv2D)            (None, 15, 15, 128)       147584    \n",
      "_________________________________________________________________\n",
      "max_pooling2d_3 (MaxPooling2 (None, 7, 7, 128)         0         \n",
      "_________________________________________________________________\n",
      "flatten (Flatten)            (None, 6272)              0         \n",
      "_________________________________________________________________\n",
      "dense (Dense)                (None, 512)               3211776   \n",
      "_________________________________________________________________\n",
      "dense_1 (Dense)              (None, 1)                 513       \n",
      "=================================================================\n",
      "Total params: 3,453,121\n",
      "Trainable params: 3,453,121\n",
      "Non-trainable params: 0\n",
      "_________________________________________________________________\n"
     ]
    }
   ],
   "source": [
    "from keras import layers\n",
    "from keras import models\n",
    "\n",
    "model = models.Sequential()\n",
    "model.add(layers.Conv2D(32, (3, 3), activation='relu',input_shape=(150, 150, 3)))\n",
    "model.add(layers.MaxPooling2D((2, 2)))\n",
    "model.add(layers.Conv2D(64, (3, 3), activation='relu'))\n",
    "model.add(layers.MaxPooling2D((2, 2)))\n",
    "model.add(layers.Conv2D(128, (3, 3), activation='relu'))\n",
    "model.add(layers.MaxPooling2D((2, 2)))\n",
    "model.add(layers.Conv2D(128, (3, 3), activation='relu'))\n",
    "model.add(layers.MaxPooling2D((2, 2)))\n",
    "model.add(layers.Flatten())\n",
    "model.add(layers.Dense(512, activation='relu'))\n",
    "model.add(layers.Dense(1, activation='sigmoid'))\n",
    "\n",
    "model.summary()"
   ]
  },
  {
   "cell_type": "code",
   "execution_count": 17,
   "metadata": {},
   "outputs": [],
   "source": [
    "model.compile(optimizer='adam',loss='binary_crossentropy',metrics=['accuracy'])"
   ]
  },
  {
   "cell_type": "code",
   "execution_count": 18,
   "metadata": {},
   "outputs": [
    {
     "name": "stdout",
     "output_type": "stream",
     "text": [
      "Epoch 1/30\n",
      "100/100 [==============================] - 25s 252ms/step - loss: 0.6908 - accuracy: 0.5160 - val_loss: 0.6938 - val_accuracy: 0.5000\n",
      "Epoch 2/30\n",
      "100/100 [==============================] - 25s 249ms/step - loss: 0.6798 - accuracy: 0.5505 - val_loss: 0.6751 - val_accuracy: 0.5370\n",
      "Epoch 3/30\n",
      "100/100 [==============================] - 25s 245ms/step - loss: 0.6733 - accuracy: 0.5655 - val_loss: 0.6679 - val_accuracy: 0.6500\n",
      "Epoch 4/30\n",
      "100/100 [==============================] - 25s 245ms/step - loss: 0.6489 - accuracy: 0.6270 - val_loss: 0.6599 - val_accuracy: 0.5890\n",
      "Epoch 5/30\n",
      "100/100 [==============================] - 24s 241ms/step - loss: 0.6031 - accuracy: 0.6665 - val_loss: 0.6614 - val_accuracy: 0.5860\n",
      "Epoch 6/30\n",
      "100/100 [==============================] - 25s 245ms/step - loss: 0.5730 - accuracy: 0.6955 - val_loss: 0.6117 - val_accuracy: 0.6780\n",
      "Epoch 7/30\n",
      "100/100 [==============================] - 25s 250ms/step - loss: 0.5121 - accuracy: 0.7345 - val_loss: 0.5710 - val_accuracy: 0.7140\n",
      "Epoch 8/30\n",
      "100/100 [==============================] - 24s 240ms/step - loss: 0.4629 - accuracy: 0.7725 - val_loss: 0.6316 - val_accuracy: 0.6770\n",
      "Epoch 9/30\n",
      "100/100 [==============================] - 24s 244ms/step - loss: 0.3798 - accuracy: 0.8290 - val_loss: 0.6470 - val_accuracy: 0.7050\n",
      "Epoch 10/30\n",
      "100/100 [==============================] - 24s 237ms/step - loss: 0.3057 - accuracy: 0.8755 - val_loss: 0.6447 - val_accuracy: 0.7110\n",
      "Epoch 11/30\n",
      "100/100 [==============================] - 24s 238ms/step - loss: 0.2220 - accuracy: 0.9035 - val_loss: 0.7368 - val_accuracy: 0.7060\n",
      "Epoch 12/30\n",
      "100/100 [==============================] - 24s 237ms/step - loss: 0.1430 - accuracy: 0.9445 - val_loss: 0.9057 - val_accuracy: 0.7190\n",
      "Epoch 13/30\n",
      "100/100 [==============================] - 24s 241ms/step - loss: 0.1256 - accuracy: 0.9485 - val_loss: 1.1481 - val_accuracy: 0.6980\n",
      "Epoch 14/30\n",
      "100/100 [==============================] - 24s 238ms/step - loss: 0.0498 - accuracy: 0.9835 - val_loss: 1.3714 - val_accuracy: 0.7030\n",
      "Epoch 15/30\n",
      "100/100 [==============================] - 24s 239ms/step - loss: 0.0262 - accuracy: 0.9925 - val_loss: 1.7451 - val_accuracy: 0.7210\n",
      "Epoch 16/30\n",
      "100/100 [==============================] - 24s 238ms/step - loss: 0.0802 - accuracy: 0.9705 - val_loss: 1.4407 - val_accuracy: 0.7110\n",
      "Epoch 17/30\n",
      "100/100 [==============================] - 24s 244ms/step - loss: 0.0412 - accuracy: 0.9865 - val_loss: 1.5573 - val_accuracy: 0.6960\n",
      "Epoch 18/30\n",
      "100/100 [==============================] - 24s 239ms/step - loss: 0.0641 - accuracy: 0.9815 - val_loss: 1.5742 - val_accuracy: 0.7060\n",
      "Epoch 19/30\n",
      "100/100 [==============================] - 24s 239ms/step - loss: 0.0424 - accuracy: 0.9870 - val_loss: 1.6341 - val_accuracy: 0.7240\n",
      "Epoch 20/30\n",
      "100/100 [==============================] - 24s 243ms/step - loss: 0.0083 - accuracy: 0.9985 - val_loss: 1.8040 - val_accuracy: 0.7350\n",
      "Epoch 21/30\n",
      "100/100 [==============================] - 26s 257ms/step - loss: 0.0014 - accuracy: 1.0000 - val_loss: 2.3298 - val_accuracy: 0.7330\n",
      "Epoch 22/30\n",
      "100/100 [==============================] - 25s 254ms/step - loss: 3.6405e-04 - accuracy: 1.0000 - val_loss: 2.1477 - val_accuracy: 0.7400\n",
      "Epoch 23/30\n",
      "100/100 [==============================] - 24s 244ms/step - loss: 1.6080e-04 - accuracy: 1.0000 - val_loss: 2.4526 - val_accuracy: 0.7330\n",
      "Epoch 24/30\n",
      "100/100 [==============================] - 24s 244ms/step - loss: 9.6900e-05 - accuracy: 1.0000 - val_loss: 2.5905 - val_accuracy: 0.7340\n",
      "Epoch 25/30\n",
      "100/100 [==============================] - 24s 243ms/step - loss: 6.9450e-05 - accuracy: 1.0000 - val_loss: 2.5628 - val_accuracy: 0.7320\n",
      "Epoch 26/30\n",
      "100/100 [==============================] - 24s 241ms/step - loss: 5.6633e-05 - accuracy: 1.0000 - val_loss: 2.6456 - val_accuracy: 0.7320\n",
      "Epoch 27/30\n",
      "100/100 [==============================] - 24s 240ms/step - loss: 4.5367e-05 - accuracy: 1.0000 - val_loss: 2.6704 - val_accuracy: 0.7320\n",
      "Epoch 28/30\n",
      "100/100 [==============================] - 24s 242ms/step - loss: 3.9058e-05 - accuracy: 1.0000 - val_loss: 2.7291 - val_accuracy: 0.7310\n",
      "Epoch 29/30\n",
      "100/100 [==============================] - 24s 240ms/step - loss: 3.2970e-05 - accuracy: 1.0000 - val_loss: 2.7745 - val_accuracy: 0.7360\n",
      "Epoch 30/30\n",
      "100/100 [==============================] - 24s 240ms/step - loss: 2.8313e-05 - accuracy: 1.0000 - val_loss: 2.7972 - val_accuracy: 0.7330\n"
     ]
    }
   ],
   "source": [
    "# history= model.fit(train_images,train_labels,epochs=20, batch_size=100, verbose=2,validation_data=(test_images, test_labels))\n",
    "\n",
    "history = model.fit(\n",
    "    train_generator,\n",
    "    steps_per_epoch=100,  \n",
    "    epochs=30,\n",
    "    validation_data=validation_generator,\n",
    "    validation_steps=50\n",
    ")\n"
   ]
  },
  {
   "cell_type": "code",
   "execution_count": 19,
   "metadata": {},
   "outputs": [
    {
     "data": {
      "text/plain": [
       "dict_keys(['loss', 'accuracy', 'val_loss', 'val_accuracy'])"
      ]
     },
     "execution_count": 19,
     "metadata": {},
     "output_type": "execute_result"
    }
   ],
   "source": [
    "history.history.keys()"
   ]
  },
  {
   "cell_type": "code",
   "execution_count": 20,
   "metadata": {},
   "outputs": [
    {
     "data": {
      "image/png": "[encoded data removed]",
      "text/plain": [
       "<Figure size 720x288 with 2 Axes>"
      ]
     },
     "metadata": {
      "needs_background": "light"
     },
     "output_type": "display_data"
    }
   ],
   "source": [
    "import matplotlib.pyplot as plt\n",
    "\n",
    "loss = history.history['loss']\n",
    "val_loss = history.history['val_loss']\n",
    "\n",
    "acc = history.history['accuracy']\n",
    "val_acc = history.history['val_accuracy']\n",
    "\n",
    "epochs = range(len(acc))\n",
    "\n",
    "plt.figure(figsize=(10, 4))\n",
    "\n",
    "plt.subplot(121)\n",
    "\n",
    "plt.plot(epochs, loss, 'bo', label='Training loss')\n",
    "plt.plot(epochs, val_loss, 'b', label='Validation loss')\n",
    "plt.title('Training and validation loss')\n",
    "plt.legend()\n",
    "\n",
    "plt.subplot(122)\n",
    "\n",
    "plt.plot(epochs, acc, 'bo', label='Training accuracy')\n",
    "plt.plot(epochs, val_acc, 'b', label='Validation accuracy')\n",
    "plt.title('Training and validation accuracy')\n",
    "plt.legend()\n",
    "\n",
    "plt.tight_layout()\n",
    "plt.show()"
   ]
  },
  {
   "cell_type": "markdown",
   "metadata": {},
   "source": [
    "## Question: \n",
    "\n",
    "현재 테스트에서 overfitting이 일어나고 있습니다.\n",
    "수업 시간에 배웠던 다양한 방법을 통해 overfitting을 최소화 시키고, 결과를 위와 같이 그래프로 표시하세요. \n",
    "결과값이 나타낸 대로 저장을 하여 제출하시기 바랍니다.  "
   ]
  },
  {
   "cell_type": "code",
   "execution_count": null,
   "metadata": {},
   "outputs": [],
   "source": []
  }
 ],
 "metadata": {
  "kernelspec": {
   "display_name": "Python 3 (ipykernel)",
   "language": "python",
   "name": "python3"
  },
  "language_info": {
   "codemirror_mode": {
    "name": "ipython",
    "version": 3
   },
   "file_extension": ".py",
   "mimetype": "text/x-python",
   "name": "python",
   "nbconvert_exporter": "python",
   "pygments_lexer": "ipython3",
   "version": "3.7.11"
  }
 },
 "nbformat": 4,
 "nbformat_minor": 4
}
